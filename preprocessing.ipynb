{
 "cells": [
  {
   "cell_type": "code",
   "execution_count": 4,
   "metadata": {},
   "outputs": [
    {
     "data": {
      "text/plain": [
       "array(['ShareX', 'Ractive', 'flow', 'ionic', 'snipe-it', 'docs',\n",
       "       'ionic-cli', 'Semantic-UI', 'generator-jhipster', 'cms', 'hugo',\n",
       "       'Clementine', 'website', 'opentx', 'https-everywhere', 'framework',\n",
       "       'jekyll', 'homebrew', 'play-games-plugin-for-unity', 'rails',\n",
       "       'node', 'elasticsearch', 'netty', 'vagrant', 'pdf.js',\n",
       "       'scikit-learn', 'matplotlib', 'core', 'jOOQ', 'symfony', 'devise',\n",
       "       'jQuery-File-Upload', 'spksrc', 'jshint', 'gitlabhq', 'brackets',\n",
       "       'CouchPotatoServer', 'rvm', 'zfs', 'kivy', 'julia',\n",
       "       'MinecraftForge', 'Reddit-Enhancement-Suite', 'three.js',\n",
       "       'composer', 'MonoGame', 'cdnjs', 'gaia', 'SignalR', 'diaspora',\n",
       "       'highcharts.com', 'ray', 'requests', 'opencart', 'khan-exercises',\n",
       "       'OpenELEC.tv', 'ansible', 'woocommerce', 'sqlmap', 'Cinnamon',\n",
       "       'Cura', 'traccar', 'spree', 'zf2', 'ember.js', 'server', 'FreeRDP',\n",
       "       'openFrameworks', 'ipython', 'rails_admin', 'meteor', 'yii',\n",
       "       'openlayers', 'pandas', 'emscripten', 'gitextensions',\n",
       "       'swagger-ui', 'django-rest-framework', 'phpunit', 'fish-shell',\n",
       "       'data', 'youtube-dl', 'jquery-mobile', 'cytoscape.js', 'sidekiq',\n",
       "       'h', 'qBittorrent', 'travis-ci', 'cesium', 'TrinityCore', 'pandoc',\n",
       "       'Font-Awesome', 'sentry', 'rubinius', 'NuGetGallery', 'headphones',\n",
       "       'yowsup', 'mapnik', 'salt', 'symfony-docs', 'linux', 'ace',\n",
       "       'supercollider', 'magento2', 'bitcoin', 'angular.js', 'elixir',\n",
       "       'TeamPass', 'maqetta', 'snowplow', 'Slic3r', 'wet-boew', 'jruby',\n",
       "       'ol3', 'pyrocms', 'statsmodels', 'cphalcon', 'qgroundcontrol',\n",
       "       'MahApps.Metro', 'numba', 'qupzilla', 'foundation',\n",
       "       'SonataAdminBundle', 'wp-cli', 'client', 'atmosphere', 'sails',\n",
       "       'chosen', 'pip', 'OpenEmu', 'celery', 'TextSecure', 'numpy',\n",
       "       'Theano', 'hazelcast', 'gitflow', 'oh-my-zsh', 'webpack', 'helm',\n",
       "       'metasploit-framework', 'slick', 'cabal', 'AutoMapper', 'fancyBox',\n",
       "       'cocos2d-x', 'nixpkgs', 'rethinkdb', 'unknown-horizons', 'lantern',\n",
       "       'vimium', 'redis', 'Firmware', 'android', 'sympy', 'ppsspp',\n",
       "       'fabric.js', 'radare2', 'mne-python', 'elFinder', 'react', 'lila',\n",
       "       'OpenRA', 'retrofit', 'you-get', 'bootstrap', 'neo4j', 'caniuse',\n",
       "       'joomla-cms', 'magit', 'servo', 'fontforge', 'readthedocs.org',\n",
       "       'TiddlyWiki5', 'Swiper', 'mpv', 'Osmand', 'cartodb',\n",
       "       'etherpad-lite', 'habitat', 'Electrum', 'Codeception',\n",
       "       'JohnTheRipper', 'networkx', 'swagger-codegen', 'PrestaShop',\n",
       "       'mage', 'okhttp', 'ng-grid', 'hawtio', 'mypy', 'crystal',\n",
       "       'ejabberd', 'jtable', 'steam-for-linux', 'aws-cli', 'vim',\n",
       "       'rubocop', 'sbt', 'ardupilot', 'beego', 'Leaflet', 'RxJS',\n",
       "       'selenium', 'w3af', 'appium', 'Sylius', 'forum', 'BuildCraft',\n",
       "       'YouCompleteMe', 'drake', 'OctoPrint', 'prometheus', 'processing',\n",
       "       'dplyr', 'yii2', 'systemd', 'pyload', 'halflife', 'Elgg',\n",
       "       'ui-router', 'RIOT', 'minetest', 'graylog2-server', 'tribler',\n",
       "       'pixi.js', 'sequelize', 'druid', 'phantomjs', 'fastjson',\n",
       "       'koreader', 'scipy', 'fenix', 'saleor', 'bower', 'phaser', 'pdns',\n",
       "       'MISP', 'knex', 'akka', 'quasar', 'video.js', 'red', 'kibana',\n",
       "       'polymer', 'openssl', 'PocketMine-MP', 'gekko', 'puphpet', 'vis',\n",
       "       'cgeo', 'Haxe', 'bundler', 'notebook', 'WordPress-iOS', 'go',\n",
       "       'echarts', 'pm2', 'less.js', 'packer', 'babel', 'RetroArch',\n",
       "       'glide', 'etcd', 'playframework', 'moment', 'uikit', 'CefSharp',\n",
       "       'YouTubeCenter', 'tarantool', 'drush', 'pants', 'tslint',\n",
       "       'wordpress-seo', 'protractor', 'NServiceBus', 'lodash', 'opencv',\n",
       "       'grails-core', 'piwik', 'phpmyadmin', 'revolution', 'gradle',\n",
       "       'bigbluebutton', 'dolibarr', 'mono', 'pyinstaller', 'k-9',\n",
       "       'cakephp', 'tinymce', 'rstudio', 'pimcore', 'Vanilla', 'libgdx',\n",
       "       'jetty.project', 'html', 'rathena', 'checkstyle', 'doxygen', 'coq',\n",
       "       'marathon', 'passenger', 'cli', 'MultiMC5', 'Redux-Framework',\n",
       "       'spring-boot', 'spring-security', 'openhab', 'RedisDesktopManager',\n",
       "       'loopback', 'mongoose', 'npm', 'Idris-dev', 'fullPage.js',\n",
       "       'SuiteCRM', 'securedrop', 'Ghost', 'habitrpg', 'hhvm', 'pushpin',\n",
       "       'librenms', 'exercism.io', 'models', 'jspm-cli', 'influxdb',\n",
       "       'presto', 'ember-cli', 'Jetpack', 'vue', 'caffe', 'micropython',\n",
       "       'go-lang-idea-plugin', 'go-ethereum', 'iD', 'lmms', 'eslint',\n",
       "       'cpp-ethereum', 'primefaces', 'conda', 'stk-code', 'fabric8',\n",
       "       'codelite', 'hyper', 'clarity', 'Wox', 'wkhtmltopdf', 'wallabag',\n",
       "       'rundeck', 'neovim', 'zephyr', 'KomodoEdit', 'godot', 'vue-router',\n",
       "       'humhub', 'dotty', 'erpnext', 'gogs', 'spacemacs', 'jabref',\n",
       "       'logstash', 'kanboard', 'GoCD', 'Docs', 'wesnoth', 'csswg-drafts',\n",
       "       'webuploader', 'serenity', 'Conversations', 'ueditor', 'october',\n",
       "       'gns3-gui', 'pouchdb', 'quill', 'kendo-ui-core', 'consul', 'flynn',\n",
       "       'home-assistant', 'aspnetboilerplate', 'closure-compiler',\n",
       "       'WebFundamentals', 'grafana', 'beaker-notebook', 'homebrew-cask',\n",
       "       'atom', 'Mvc', 'EntityFramework', 'jest', 'anti-adblock-killer',\n",
       "       'Home', 'odoo', 'NodeBB', 'MPAndroidChart', 'tdesktop', 'rclone',\n",
       "       'Hearthstone-Deck-Tracker', 'mapbox-gl-native', 'react-bootstrap',\n",
       "       'kubernetes', 'data.table', 'agda', 'bootstrap-table', 'rust',\n",
       "       'flatbuffers', 'manageiq', 'hexo', 'ExoPlayer', 'cargo',\n",
       "       'wysiwyg-editor', 'uBlock', 'robotframework', 'material',\n",
       "       'awesome-elixir', 'MaterialDesign', 'concourse', 'qTox',\n",
       "       'realm-cocoa', 'chapel', 'osrm-backend', 'TypeScript',\n",
       "       'react-router', 'docker', 'webdriverio', 'terraform',\n",
       "       'qutebrowser', 'Alamofire', 'syncthing', 'duplicati',\n",
       "       'mapbox-gl-js', 'imgui', 'grav', 'origin', 'RxJava', 'ruTorrent',\n",
       "       'protobuf', 'Paket', 'keystone', 'nunit', 'react-select',\n",
       "       'lighthouse', 'spring-cloud-netflix', 'materialize', 'CodeMirror',\n",
       "       'ansible-modules-core', 'realm-java', 'angular', 'material-ui',\n",
       "       'bokeh', 'machine', 'osquery', 'Sonarr', 'lxd', 'azure-powershell',\n",
       "       'dynamorio', 'corefx', 'drmemory', 'SickRage', 'Cachet', 'stack',\n",
       "       'summernote', 'handsontable', 'reaction', 'i3', 'sdk', 'mautic',\n",
       "       'freecodecamp', 'sphinx', 'select2', 'Marlin', 'pinpoint', 'dask',\n",
       "       'roslyn', 'visualfsharp', 'nw.js', 'XX-Net', 'desktop',\n",
       "       'jitpack.io', 'chef', 'orleans', 'kythe', 'arangodb', 'boinc',\n",
       "       'coreclr', 'MaterialDrawer', 'deeplearning4j', 'spyder',\n",
       "       'awesomplete', 'openshift-ansible', 'compose', 'grpc',\n",
       "       'NativeScript', 'IdentityServer3', 'msbuild', 'xgboost',\n",
       "       'springfox', 'Bridge', 'react-native', 'cypress', 'keras',\n",
       "       'Arduino', 'go-ipfs', 'rpcs3', 'PTVS', 'orchard',\n",
       "       'phonegap-plugin-push', 'endless-sky', 'che', 'electron',\n",
       "       'ijkplayer', 'vault', 'ntopng', 'DietPi', 'open-event-orga-server',\n",
       "       'minio', 'borg', 'Rocket.Chat', 'electron-builder',\n",
       "       'notepad-plus-plus', 'gitea', 'ant-design', 'zaproxy',\n",
       "       'Rubberduck', 'mist', 'Nim', 'medusa', 'meson', 'pytest',\n",
       "       'openshot-qt', 'phpipam', 'OpenRCT2', 'mxnet', 'gatsby',\n",
       "       'angular-cli', 'rancher', 'redux-form', 'ui-grid',\n",
       "       'material-design-lite', 'catapult', 'glpi', 'RawTherapee',\n",
       "       'vector-web', 'termux-packages',\n",
       "       'Google-Play-Music-Desktop-Player-UNOFFICIAL-', 'oppia',\n",
       "       'solidity', 'react-native-router-flux', 'tidb', 'bazel', 'eos',\n",
       "       'scylla', 'vega-lite', 'mbed-os', 'zulip', 'nomad', 'N1',\n",
       "       'amphtml', 'Slide', 'netdata', 'SpongeForge', 'dbeaver',\n",
       "       'metabase', 'fastlane', 'flutter', 'testcafe', 'tensorflow',\n",
       "       'tabulator', 'spinnaker', 'charts', 'plotly.js', 'vscode', 'Vim',\n",
       "       'wp-calypso', 'kitematic', 'conan', 'highcharts', 'beats',\n",
       "       'serverless', 'pylint', 'itch', 'aframe', 'write-ups-2016',\n",
       "       'gold-miner', 'vue-cli', 'telegraf', 'material2',\n",
       "       'IdentityServer4', 'nopCommerce', 'primeng', 'omnisharp-vscode',\n",
       "       'browser-laptop', 'zcash', 'librealsense', 'CNTK', 'parse-server',\n",
       "       'vagas', 'laravel-admin', 'spaCy', 'parity', 'traefik', 'vux',\n",
       "       'harbor', 'brew', 'react-native-navigation', 'BotBuilder',\n",
       "       'Charts', 'homebrew-core', 'uAssets', 'BashOnWindows', 'steem',\n",
       "       'pxt', 'minikube', 'vsts-tasks', 'BaseRecyclerViewAdapterHelper',\n",
       "       'Xamarin.Forms', 'test-infra', 'NativeBase', 'certbot',\n",
       "       'elementor', 'jupyterlab', 'ClickHouse', 'netbox', 'kops',\n",
       "       'PokemonGo-Map', 'PokemonGo-Bot', 'office-ui-fabric-react',\n",
       "       'create-react-app', 'NecroBot', 'azure-cli', 'for-mac',\n",
       "       'ant-design-mobile', 'debugger.html', 'typeorm', 'cilium',\n",
       "       'PowerShell', 'esp-idf', 'vscode-cpptools', 'egg', 'element',\n",
       "       'envoy', 'vcpkg', 'status-react', 'docker.github.io', 'iView',\n",
       "       'arduino-esp32', 'yarn', 'zammad', 'InstaPy', 'next.js', 'grakn',\n",
       "       'keepassxc', 'minishift', 'scratch-gui', 'nuxt.js', 'chronograf',\n",
       "       'rasa_nlu', 'Paddle', 'GSYVideoPlayer', 'riot-web', 'istio',\n",
       "       'material-components-web', 'vuetify', 'material-components-ios',\n",
       "       'Ombi', 'mastodon', 'prettier', 'pytorch', 'pipenv',\n",
       "       'write-ups-2017', 'react-navigation', 'Sonoff-Tasmota',\n",
       "       'csharplang', 'gutenberg', 'focus-android', 'FastHub', 'expo',\n",
       "       'beakerx', 'storybook', 'moby', 'Theia', 'terraform-provider-aws',\n",
       "       'ccxt', 'incubator-superset', 'metamask-extension',\n",
       "       'incubator-mxnet', 'ng-zorro-antd', 'MixedRealityToolkit-Unity',\n",
       "       'puppeteer', 'cosmos-sdk', 'EntityFrameworkCore', 'awx', 'openj9',\n",
       "       'WSL', 'ant-design-pro', 'parcel', 'Signal-Android', 'live-share',\n",
       "       'nocode', 'taskwarrior', 'brave-browser', 'incubator-echarts',\n",
       "       'ballerina-lang', 'taro', 'Proton', 'azuredatastudio',\n",
       "       'AspNetCore', '996.ICU'], dtype=object)"
      ]
     },
     "execution_count": 4,
     "metadata": {},
     "output_type": "execute_result"
    }
   ],
   "source": [
    "import pandas as pd\n",
    "file_name = 'data/i2000_s1000_from_mongo'\n",
    "df = pd.read_csv(file_name + '.csv')#, on_bad_lines='skip')\n",
    "# df2 = pd.read_csv('data2.csv', header=None)\n",
    "\n",
    "df.project_name.unique()"
   ]
  },
  {
   "cell_type": "code",
   "execution_count": 5,
   "metadata": {},
   "outputs": [],
   "source": [
    "# import pandas as pd\n",
    "# file_name = 'preprocess/10000issues-5000stars_issues_with_process_en'\n",
    "# df = pd.read_csv(file_name + '.csv')\n",
    "# df = df.dropna()\n",
    "# print(new_df.isnull().sum())\n",
    "# print(len(new_df))"
   ]
  },
  {
   "cell_type": "code",
   "execution_count": 6,
   "metadata": {},
   "outputs": [],
   "source": [
    "# df.to_csv(file_name + '.csv', index=False)"
   ]
  },
  {
   "cell_type": "code",
   "execution_count": 37,
   "metadata": {},
   "outputs": [
    {
     "data": {
      "text/plain": [
       "'\\nXX-Net\\n996.ICU\\nant-design\\nelement\\n'"
      ]
     },
     "execution_count": 37,
     "metadata": {},
     "output_type": "execute_result"
    }
   ],
   "source": [
    "with open('lang.txt', 'w') as f:\n",
    "    for p in df.project_name.unique():\n",
    "        f.write(str(p) + '\\n')\n",
    "        for row in df.loc[df.project_name == p, 'body'][200:210]:\n",
    "            f.write(str(row))\n",
    "            f.write('\\n')\n",
    "            # print(row)\n",
    "        f.write('\\n')\n",
    "\n",
    "'''\n",
    "XX-Net\n",
    "996.ICU\n",
    "ant-design\n",
    "element\n",
    "'''"
   ]
  },
  {
   "cell_type": "code",
   "execution_count": 14,
   "metadata": {},
   "outputs": [
    {
     "data": {
      "text/plain": [
       "['ionic',\n",
       " 'node',\n",
       " 'XX-Net',\n",
       " 'angular-cli',\n",
       " 'wp-calypso',\n",
       " 'browser-laptop',\n",
       " 'odoo',\n",
       " 'yii2',\n",
       " 'travis-ci',\n",
       " 'framework']"
      ]
     },
     "execution_count": 14,
     "metadata": {},
     "output_type": "execute_result"
    }
   ],
   "source": [
    "# remove_proj\n",
    "'''['ionic',\n",
    " 'node',\n",
    " 'XX-Net',\n",
    " 'angular-cli',\n",
    " 'wp-calypso',\n",
    " 'browser-laptop',\n",
    " 'odoo',\n",
    " 'yii2',\n",
    " 'travis-ci',\n",
    " 'framework']'''"
   ]
  },
  {
   "cell_type": "code",
   "execution_count": 12,
   "metadata": {},
   "outputs": [],
   "source": [
    "# # filter_df = df.drop(df[df['project_name']=='youtube-dl'].index)\n",
    "# # filter_df = filter_df.drop(filter_df[filter_df['project_name']=='ant-design'].index)\n",
    "# # filter_df = filter_df.drop(filter_df[filter_df['project_name']=='996.ICU'].index)\n",
    "# # filter_df = filter_df.drop(filter_df[filter_df['project_name']=='rancher'].index)\n",
    "\n",
    "# full_proj = df.project_name.unique()\n",
    "\n",
    "# select_proj = ['rails', 'core', 'symfony', 'julia', 'ansible', 'youtube-dl',\n",
    "#        'TrinityCore', 'Font-Awesome', 'salt', 'magento2', 'bootstrap',\n",
    "#        'spring-boot', 'npm', 'go-ethereum', 'grafana', 'atom', 'rust',\n",
    "#        'TypeScript', 'docker', 'terraform', 'angular', 'corefx', 'go',\n",
    "#        'freecodecamp', 'roslyn', 'spyder', 'kibana', 'elasticsearch',\n",
    "#        'react-native', 'sdk', 'ant-design', 'rancher', 'kubernetes',\n",
    "#        'godot', 'flutter', 'tensorflow', 'vscode', 'element', '996.ICU']\n",
    "\n",
    "# remove_proj = list(set(full_proj) - set(select_proj))\n",
    "\n",
    "remove_proj = ['XX-Net', '996.ICU', 'ant-design', 'element']\n",
    "\n",
    "filter_df = df\n",
    "for proj in remove_proj:\n",
    "       filter_df = filter_df.drop(filter_df[filter_df['project_name']==proj].index)"
   ]
  },
  {
   "cell_type": "code",
   "execution_count": 17,
   "metadata": {},
   "outputs": [
    {
     "name": "stdout",
     "output_type": "stream",
     "text": [
      "39\n",
      "True\n"
     ]
    }
   ],
   "source": [
    "print(len(filter_df.project_name.unique()))\n",
    "print(set(filter_df.project_name.unique()) == set(select_proj))"
   ]
  },
  {
   "cell_type": "code",
   "execution_count": 18,
   "metadata": {},
   "outputs": [
    {
     "data": {
      "text/plain": [
       "1801430"
      ]
     },
     "execution_count": 18,
     "metadata": {},
     "output_type": "execute_result"
    }
   ],
   "source": [
    "len(filter_df)#, len(df2)"
   ]
  },
  {
   "cell_type": "code",
   "execution_count": 6,
   "metadata": {},
   "outputs": [
    {
     "name": "stderr",
     "output_type": "stream",
     "text": [
      "/tmp/ipykernel_507419/2893317414.py:3: DtypeWarning: Columns (1,2) have mixed types. Specify dtype option on import or set low_memory=False.\n",
      "  df = pd.read_csv(file_name + '.csv', on_bad_lines='skip')\n"
     ]
    },
    {
     "data": {
      "text/plain": [
       "60938215"
      ]
     },
     "execution_count": 6,
     "metadata": {},
     "output_type": "execute_result"
    }
   ],
   "source": [
    "import pandas as pd\n",
    "file_name = 'data/all_issues'\n",
    "df = pd.read_csv(file_name + '.csv', on_bad_lines='skip')\n",
    "len(df)"
   ]
  },
  {
   "cell_type": "code",
   "execution_count": 7,
   "metadata": {},
   "outputs": [],
   "source": [
    "title_df = pd.DataFrame(df.title)\n",
    "body_df = pd.DataFrame(df.body)"
   ]
  },
  {
   "cell_type": "code",
   "execution_count": 8,
   "metadata": {},
   "outputs": [
    {
     "name": "stderr",
     "output_type": "stream",
     "text": [
      "100% 8659053/8659053 [11:57<00:00, 12068.52it/s]"
     ]
    },
    {
     "name": "stdout",
     "output_type": "stream",
     "text": [
      "\n",
      "title\n"
     ]
    },
    {
     "name": "stderr",
     "output_type": "stream",
     "text": [
      "\n"
     ]
    }
   ],
   "source": [
    "from tqdm import tqdm\n",
    "for i, body in tqdm(enumerate(body_df.iloc[:, 0]), total=len(body_df.iloc[:, 0])):\n",
    "    if pd.isna(title_df.iloc[i, 0]):\n",
    "        title_df.iloc[i, 0] = body\n",
    "    elif not pd.isna(body):\n",
    "        title_df.iloc[i, 0] += body\n",
    "print()\n",
    "for text in title_df.head():\n",
    "    print(text)"
   ]
  },
  {
   "cell_type": "code",
   "execution_count": 9,
   "metadata": {},
   "outputs": [
    {
     "name": "stdout",
     "output_type": "stream",
     "text": [
      "title    0\n",
      "dtype: int64\n",
      "8658692\n"
     ]
    }
   ],
   "source": [
    "new_df = title_df.dropna()\n",
    "print(new_df.isnull().sum())\n",
    "print(len(new_df))"
   ]
  },
  {
   "cell_type": "code",
   "execution_count": 10,
   "metadata": {},
   "outputs": [
    {
     "data": {
      "text/html": [
       "<div>\n",
       "<style scoped>\n",
       "    .dataframe tbody tr th:only-of-type {\n",
       "        vertical-align: middle;\n",
       "    }\n",
       "\n",
       "    .dataframe tbody tr th {\n",
       "        vertical-align: top;\n",
       "    }\n",
       "\n",
       "    .dataframe thead th {\n",
       "        text-align: right;\n",
       "    }\n",
       "</style>\n",
       "<table border=\"1\" class=\"dataframe\">\n",
       "  <thead>\n",
       "    <tr style=\"text-align: right;\">\n",
       "      <th></th>\n",
       "      <th>title</th>\n",
       "    </tr>\n",
       "  </thead>\n",
       "  <tbody>\n",
       "    <tr>\n",
       "      <th>0</th>\n",
       "      <td>ShareX not recording audio - I have installed ...</td>\n",
       "    </tr>\n",
       "    <tr>\n",
       "      <th>1</th>\n",
       "      <td>Enhancement: Video Converter automatically Use...</td>\n",
       "    </tr>\n",
       "    <tr>\n",
       "      <th>2</th>\n",
       "      <td>Application settings do not work properly (Sha...</td>\n",
       "    </tr>\n",
       "    <tr>\n",
       "      <th>3</th>\n",
       "      <td>Some windows can't be \"print screen\"Hello, \\r\\...</td>\n",
       "    </tr>\n",
       "    <tr>\n",
       "      <th>4</th>\n",
       "      <td>Feature Request: Image Editor: Add Basic Paint...</td>\n",
       "    </tr>\n",
       "  </tbody>\n",
       "</table>\n",
       "</div>"
      ],
      "text/plain": [
       "                                               title\n",
       "0  ShareX not recording audio - I have installed ...\n",
       "1  Enhancement: Video Converter automatically Use...\n",
       "2  Application settings do not work properly (Sha...\n",
       "3  Some windows can't be \"print screen\"Hello, \\r\\...\n",
       "4  Feature Request: Image Editor: Add Basic Paint..."
      ]
     },
     "execution_count": 10,
     "metadata": {},
     "output_type": "execute_result"
    }
   ],
   "source": [
    "new_df.head()"
   ]
  },
  {
   "cell_type": "code",
   "execution_count": 11,
   "metadata": {},
   "outputs": [],
   "source": [
    "# new_df.to_csv(file_name + '_with_process.csv', index=False)\n",
    "new_df.to_csv('i2000_s1000_with_process.csv', index=False)"
   ]
  },
  {
   "cell_type": "code",
   "execution_count": 12,
   "metadata": {},
   "outputs": [
    {
     "data": {
      "text/html": [
       "<div>\n",
       "<style scoped>\n",
       "    .dataframe tbody tr th:only-of-type {\n",
       "        vertical-align: middle;\n",
       "    }\n",
       "\n",
       "    .dataframe tbody tr th {\n",
       "        vertical-align: top;\n",
       "    }\n",
       "\n",
       "    .dataframe thead th {\n",
       "        text-align: right;\n",
       "    }\n",
       "</style>\n",
       "<table border=\"1\" class=\"dataframe\">\n",
       "  <thead>\n",
       "    <tr style=\"text-align: right;\">\n",
       "      <th></th>\n",
       "      <th>title</th>\n",
       "    </tr>\n",
       "  </thead>\n",
       "  <tbody>\n",
       "    <tr>\n",
       "      <th>0</th>\n",
       "      <td>ShareX not recording audio - I have installed ...</td>\n",
       "    </tr>\n",
       "    <tr>\n",
       "      <th>1</th>\n",
       "      <td>Enhancement: Video Converter automatically Use...</td>\n",
       "    </tr>\n",
       "    <tr>\n",
       "      <th>2</th>\n",
       "      <td>Application settings do not work properly (Sha...</td>\n",
       "    </tr>\n",
       "    <tr>\n",
       "      <th>3</th>\n",
       "      <td>Some windows can't be \"print screen\"Hello, \\r\\...</td>\n",
       "    </tr>\n",
       "    <tr>\n",
       "      <th>4</th>\n",
       "      <td>Feature Request: Image Editor: Add Basic Paint...</td>\n",
       "    </tr>\n",
       "    <tr>\n",
       "      <th>...</th>\n",
       "      <td>...</td>\n",
       "    </tr>\n",
       "    <tr>\n",
       "      <th>8658683</th>\n",
       "      <td>fix typo</td>\n",
       "    </tr>\n",
       "    <tr>\n",
       "      <th>8658684</th>\n",
       "      <td>Add the legal provisions, 😀</td>\n",
       "    </tr>\n",
       "    <tr>\n",
       "      <th>8658685</th>\n",
       "      <td>Refine type settingThere should be whitespaces...</td>\n",
       "    </tr>\n",
       "    <tr>\n",
       "      <th>8658686</th>\n",
       "      <td>Update README.md (Add &lt;kbd&gt; tag for \"F\")Add `&lt;...</td>\n",
       "    </tr>\n",
       "    <tr>\n",
       "      <th>8658687</th>\n",
       "      <td>#30 finish the sentenceFix #30.</td>\n",
       "    </tr>\n",
       "  </tbody>\n",
       "</table>\n",
       "<p>8658688 rows × 1 columns</p>\n",
       "</div>"
      ],
      "text/plain": [
       "                                                     title\n",
       "0        ShareX not recording audio - I have installed ...\n",
       "1        Enhancement: Video Converter automatically Use...\n",
       "2        Application settings do not work properly (Sha...\n",
       "3        Some windows can't be \"print screen\"Hello, \\r\\...\n",
       "4        Feature Request: Image Editor: Add Basic Paint...\n",
       "...                                                    ...\n",
       "8658683                                           fix typo\n",
       "8658684                        Add the legal provisions, 😀\n",
       "8658685  Refine type settingThere should be whitespaces...\n",
       "8658686  Update README.md (Add <kbd> tag for \"F\")Add `<...\n",
       "8658687                    #30 finish the sentenceFix #30.\n",
       "\n",
       "[8658688 rows x 1 columns]"
      ]
     },
     "execution_count": 12,
     "metadata": {},
     "output_type": "execute_result"
    }
   ],
   "source": [
    "pd.read_csv('i2000_s1000_with_process.csv')"
   ]
  },
  {
   "cell_type": "code",
   "execution_count": null,
   "metadata": {},
   "outputs": [],
   "source": [
    "import pandas as pd\n",
    "from tqdm import tqdm\n",
    "\n",
    "df = pd.read_csv('full_VSissues.csv')\n",
    "\n",
    "max_len = 512\n",
    "\n",
    "split_df = pd.DataFrame()\n",
    "split_char = [' ', '\\n']\n",
    "\n",
    "for text in tqdm(df.iloc[:, 0]):\n",
    "    i = 0\n",
    "    length = len(text)\n",
    "    \n",
    "    while i + max_len < length:\n",
    "        split_df = pd.concat([split_df, pd.DataFrame([text[i:i+max_len]])])\n",
    "        i += max_len"
   ]
  },
  {
   "cell_type": "code",
   "execution_count": null,
   "metadata": {},
   "outputs": [],
   "source": [
    "df.head()"
   ]
  },
  {
   "cell_type": "code",
   "execution_count": null,
   "metadata": {},
   "outputs": [],
   "source": [
    "split_df.head()"
   ]
  },
  {
   "cell_type": "code",
   "execution_count": null,
   "metadata": {},
   "outputs": [],
   "source": [
    "split_df.to_csv('full_split_VSissues.csv', index=False)"
   ]
  },
  {
   "cell_type": "code",
   "execution_count": 1,
   "metadata": {},
   "outputs": [
    {
     "data": {
      "text/html": [
       "<div>\n",
       "<style scoped>\n",
       "    .dataframe tbody tr th:only-of-type {\n",
       "        vertical-align: middle;\n",
       "    }\n",
       "\n",
       "    .dataframe tbody tr th {\n",
       "        vertical-align: top;\n",
       "    }\n",
       "\n",
       "    .dataframe thead th {\n",
       "        text-align: right;\n",
       "    }\n",
       "</style>\n",
       "<table border=\"1\" class=\"dataframe\">\n",
       "  <thead>\n",
       "    <tr style=\"text-align: right;\">\n",
       "      <th></th>\n",
       "      <th>test failures in org.elasticsearch.xpack.slm.slmsnapshotblockingintegtests running `org.elasticsearch.xpack.slm.slmsnapshotblockingintegtests` in a loop i can easily reproduce failing tests from race conditions around aborting a snapshot that is in state `init`. example failure: [CODE] fix incoming in https://github.com/elastic/elasticsearch/pull/54765</th>\n",
       "    </tr>\n",
       "  </thead>\n",
       "  <tbody>\n",
       "    <tr>\n",
       "      <th>0</th>\n",
       "      <td>[ml] inference only persist if there are stats...</td>\n",
       "    </tr>\n",
       "    <tr>\n",
       "      <th>1</th>\n",
       "      <td>in 8.0 all basic-licensed features are enabled...</td>\n",
       "    </tr>\n",
       "    <tr>\n",
       "      <th>2</th>\n",
       "      <td>[7.x] [docs] remove unused cat tasks request p...</td>\n",
       "    </tr>\n",
       "    <tr>\n",
       "      <th>3</th>\n",
       "      <td>[7.x] add student's t-test aggregation support...</td>\n",
       "    </tr>\n",
       "    <tr>\n",
       "      <th>4</th>\n",
       "      <td>teststreamroundtripwithallfields failed java.l...</td>\n",
       "    </tr>\n",
       "  </tbody>\n",
       "</table>\n",
       "</div>"
      ],
      "text/plain": [
       "  test failures in org.elasticsearch.xpack.slm.slmsnapshotblockingintegtests running `org.elasticsearch.xpack.slm.slmsnapshotblockingintegtests` in a loop i can easily reproduce failing tests from race conditions around aborting a snapshot that is in state `init`. example failure: [CODE] fix incoming in https://github.com/elastic/elasticsearch/pull/54765\n",
       "0  [ml] inference only persist if there are stats...                                                                                                                                                                                                                                                                                                                \n",
       "1  in 8.0 all basic-licensed features are enabled...                                                                                                                                                                                                                                                                                                                \n",
       "2  [7.x] [docs] remove unused cat tasks request p...                                                                                                                                                                                                                                                                                                                \n",
       "3  [7.x] add student's t-test aggregation support...                                                                                                                                                                                                                                                                                                                \n",
       "4  teststreamroundtripwithallfields failed java.l...                                                                                                                                                                                                                                                                                                                "
      ]
     },
     "execution_count": 1,
     "metadata": {},
     "output_type": "execute_result"
    }
   ],
   "source": [
    "import pandas as pd\n",
    "df = pd.read_csv('15000-10000star_issues_with_process_preproc.csv')\n",
    "df.head()"
   ]
  },
  {
   "cell_type": "code",
   "execution_count": 14,
   "metadata": {},
   "outputs": [],
   "source": [
    "df.iloc[:, 1].to_csv('15000-10000star_issues_with_process_preproc.csv', header=False, index=False)"
   ]
  },
  {
   "cell_type": "code",
   "execution_count": null,
   "metadata": {},
   "outputs": [],
   "source": []
  }
 ],
 "metadata": {
  "kernelspec": {
   "display_name": "PyTorch 1.13 (NGC 22.05/Python 3.8 Conda) on Backend.AI",
   "language": "python",
   "name": "python3"
  },
  "language_info": {
   "codemirror_mode": {
    "name": "ipython",
    "version": 3
   },
   "file_extension": ".py",
   "mimetype": "text/x-python",
   "name": "python",
   "nbconvert_exporter": "python",
   "pygments_lexer": "ipython3",
   "version": "3.8.13"
  }
 },
 "nbformat": 4,
 "nbformat_minor": 2
}
